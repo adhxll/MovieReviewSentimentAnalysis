{
 "cells": [
  {
   "cell_type": "markdown",
   "metadata": {},
   "source": [
    "# Movie Review Sentiment Analysis\n",
    "\n",
    "This is a simple project I did back in 4th semester. It's a Machine Learning project that aims to detect movie reviews sentiment, whether it's positive or negative. I used the classic TF-IDF and Linear SVM and got an accuracy score of 0.75. The model shows a slight inclination towards predicting true negatives. \n",
    "\n",
    "I have another version of this project where I improve it by adding more similar data. It got better overall scores that reached 0.88 accuracy. "
   ]
  },
  {
   "cell_type": "code",
   "execution_count": 1,
   "metadata": {
    "id": "JbXRHqjVZuLj"
   },
   "outputs": [],
   "source": [
    "# import pandas as pd\n",
    "from sklearn.feature_extraction.text import CountVectorizer\n",
    "import numpy as np\n",
    "import random\n",
    "import re\n",
    "from sklearn.model_selection import train_test_split \n",
    "from sklearn.feature_extraction.text import TfidfVectorizer\n",
    "from sklearn import svm"
   ]
  },
  {
   "cell_type": "code",
   "execution_count": 11,
   "metadata": {},
   "outputs": [],
   "source": [
    "import seaborn as sn\n",
    "import matplotlib.pyplot as plt\n",
    "from sklearn.metrics import classification_report, confusion_matrix, accuracy_score\n",
    "import pandas as pd\n",
    "\n",
    "\n",
    "def show_validation_metrics(labels, predictions, useArgmax=False, generateCM=True):\n",
    "    \"\"\"\n",
    "    Helper functions that shows validation metrics\n",
    "    \"\"\"\n",
    "    if useArgmax:\n",
    "        labels = np.argmax(labels, axis = 1)\n",
    "        predictions = np.argmax(predictions, axis = 1)\n",
    "        \n",
    "    cm = confusion_matrix(labels, predictions)\n",
    "    print(\"Accuracy:\",accuracy_score(labels, predictions))\n",
    "    report = classification_report(labels, predictions, output_dict=True)\n",
    "    # print('positive: ', report['pos'])\n",
    "    # print('negative: ', report['neg'])\n",
    "    for y in report:\n",
    "        print(f'label: {y} {report[y]}')\n",
    "    if generateCM:\n",
    "        myset = set(labels)\n",
    "\n",
    "        df_cm = pd.DataFrame(cm, range(len(myset)), range(len(myset)))\n",
    "        plt.figure(figsize=(16,8))\n",
    "        sn.set(font_scale=0.5) # for label size\n",
    "        sn.heatmap(df_cm, fmt= '.1f', annot=True, annot_kws={\"size\": 16}) # font size\n",
    "\n",
    "        plt.show()"
   ]
  },
  {
   "cell_type": "code",
   "execution_count": 3,
   "metadata": {
    "id": "8MsYFGA7cYty"
   },
   "outputs": [],
   "source": [
    "def clean_str(string):\n",
    "    \"\"\"\n",
    "    Tokenization/string cleaning for all datasets except for SST.\n",
    "    Original taken from https://github.com/yoonkim/CNN_sentence/blob/master/process_data.py\n",
    "    \"\"\"\n",
    "    string = re.sub(r\"[^A-Za-z0-9(),!?\\'\\`]\", \" \", string)\n",
    "    string = re.sub(r\"\\'s\", \" \\'s\", string)\n",
    "    string = re.sub(r\"\\'ve\", \" \\'ve\", string)\n",
    "    string = re.sub(r\"n\\'t\", \" n\\'t\", string)\n",
    "    string = re.sub(r\"\\'re\", \" \\'re\", string)\n",
    "    string = re.sub(r\"\\'d\", \" \\'d\", string)\n",
    "    string = re.sub(r\"\\'ll\", \" \\'ll\", string)\n",
    "    string = re.sub(r\",\", \" , \", string)\n",
    "    string = re.sub(r\"!\", \" ! \", string)\n",
    "    string = re.sub(r\"\\(\", \" \\( \", string)\n",
    "    string = re.sub(r\"\\)\", \" \\) \", string)\n",
    "    string = re.sub(r\"\\?\", \" \\? \", string)\n",
    "    string = re.sub(r\"\\s{2,}\", \" \", string)\n",
    "    return string.strip().lower()\n",
    "\n",
    "def load_data_and_labels():\n",
    "    \"\"\"\n",
    "    Loads MR polarity data from files, splits the data into words and generates labels.\n",
    "    Returns split sentences and labels.\n",
    "    Dataset is from iMDb archive http://www.cs.cornell.edu/people/pabo/movie-review-data/\n",
    "    \"\"\"\n",
    "    # Load data from files\n",
    "    positive_examples = list(open(\"MRPolarity/rt-polarity.pos\", \"r\", encoding='latin-1').readlines())\n",
    "    positive_examples = [s.strip() for s in positive_examples]\n",
    "    negative_examples = list(open(\"MRPolarity/rt-polarity.neg\", \"r\", encoding='latin-1').readlines())\n",
    "    negative_examples = [s.strip() for s in negative_examples]\n",
    "    # Split by words\n",
    "    x_text = positive_examples + negative_examples\n",
    "    x_text = [clean_str(sent) for sent in x_text]\n",
    "    # Generate labels\n",
    "    positive_labels = ['pos' for _ in positive_examples]\n",
    "    negative_labels = ['neg' for _ in negative_examples]\n",
    "    y = np.concatenate([positive_labels, negative_labels], 0)\n",
    "    return [x_text, y]"
   ]
  },
  {
   "cell_type": "code",
   "execution_count": 4,
   "metadata": {
    "id": "l7r94g5QN99O"
   },
   "outputs": [],
   "source": [
    "x, y = load_data_and_labels()"
   ]
  },
  {
   "cell_type": "code",
   "execution_count": 5,
   "metadata": {
    "id": "vImz9jPHcXv6"
   },
   "outputs": [],
   "source": [
    "#making feature vector\n",
    "vectorizer = TfidfVectorizer(min_df = 5,\n",
    "                             max_df = 0.8,\n",
    "                             sublinear_tf = True,\n",
    "                             use_idf = True)\n",
    "\n",
    "X = vectorizer.fit_transform(x)"
   ]
  },
  {
   "cell_type": "code",
   "execution_count": 6,
   "metadata": {
    "id": "MGw0RMNFSHOU"
   },
   "outputs": [],
   "source": [
    "x_train, x_test, y_train, y_test = train_test_split(X, y, test_size=0.1, random_state=42)"
   ]
  },
  {
   "cell_type": "code",
   "execution_count": 9,
   "metadata": {
    "colab": {
     "base_uri": "https://localhost:8080/",
     "height": 51
    },
    "id": "mXB5rXGATlyk",
    "outputId": "e3487416-d43b-4e20-dc00-aebc60ac4444"
   },
   "outputs": [],
   "source": [
    "# Perform classification with SVM, kernel=linear\n",
    "classifier = svm.SVC(kernel='linear')\n",
    "classifier.fit(x_train, y_train)\n",
    "prediction = classifier.predict(x_test)"
   ]
  },
  {
   "cell_type": "code",
   "execution_count": 12,
   "metadata": {
    "id": "ROXBWkSOKt6m"
   },
   "outputs": [
    {
     "name": "stdout",
     "output_type": "stream",
     "text": [
      "Accuracy: 0.753514526710403\n",
      "label: neg {'precision': 0.7638376383763837, 'recall': 0.7540983606557377, 'f1-score': 0.7589367552703941, 'support': 549}\n",
      "label: pos {'precision': 0.7428571428571429, 'recall': 0.752895752895753, 'f1-score': 0.7478427612655801, 'support': 518}\n",
      "label: accuracy 0.753514526710403\n",
      "label: macro avg {'precision': 0.7533473906167634, 'recall': 0.7534970567757453, 'f1-score': 0.7533897582679872, 'support': 1067}\n",
      "label: weighted avg {'precision': 0.7536521681992827, 'recall': 0.753514526710403, 'f1-score': 0.7535509175061077, 'support': 1067}\n"
     ]
    },
    {
     "data": {
      "image/png": "[encoded data removed]",
      "text/plain": [
       "<Figure size 1152x576 with 2 Axes>"
      ]
     },
     "metadata": {
      "needs_background": "light"
     },
     "output_type": "display_data"
    }
   ],
   "source": [
    "show_validation_metrics(y_test, prediction)"
   ]
  }
 ],
 "metadata": {
  "colab": {
   "collapsed_sections": [],
   "name": "NLP_Project.ipynb",
   "provenance": []
  },
  "kernelspec": {
   "display_name": "Python 3 (ipykernel)",
   "language": "python",
   "name": "python3"
  },
  "language_info": {
   "codemirror_mode": {
    "name": "ipython",
    "version": 3
   },
   "file_extension": ".py",
   "mimetype": "text/x-python",
   "name": "python",
   "nbconvert_exporter": "python",
   "pygments_lexer": "ipython3",
   "version": "3.9.7"
  }
 },
 "nbformat": 4,
 "nbformat_minor": 1
}
